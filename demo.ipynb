{
 "cells": [
  {
   "cell_type": "code",
   "execution_count": 1,
   "id": "69f29eb5",
   "metadata": {},
   "outputs": [],
   "source": [
    "import os\n",
    "from pathlib import Path\n"
   ]
  },
  {
   "cell_type": "code",
   "execution_count": 9,
   "id": "ae2197f9",
   "metadata": {},
   "outputs": [
    {
     "data": {
      "text/plain": [
       "('', '.projectflow.txt')"
      ]
     },
     "execution_count": 9,
     "metadata": {},
     "output_type": "execute_result"
    }
   ],
   "source": [
    "os.path.split(Path(\".projectflow.txt\"))"
   ]
  },
  {
   "cell_type": "code",
   "execution_count": 23,
   "id": "3f2fa609",
   "metadata": {},
   "outputs": [],
   "source": [
    "if not 10 == 10 or 1==2:\n",
    "    print('asd')"
   ]
  },
  {
   "cell_type": "code",
   "execution_count": 3,
   "id": "10734e96",
   "metadata": {},
   "outputs": [],
   "source": [
    "import sys\n",
    "def error_message_detail(error:Exception,error_detail:sys)->sys:\n",
    "    '''exports detailed error'''\n",
    "    _,_,exc_tb=error_detail.exc_info"
   ]
  },
  {
   "cell_type": "code",
   "execution_count": 1,
   "id": "a5972a40",
   "metadata": {},
   "outputs": [
    {
     "data": {
      "text/plain": [
       "'c:\\\\Users\\\\DELL\\\\AppData\\\\Local\\\\Programs\\\\Python\\\\Python313\\\\Lib\\\\site-packages\\\\certifi\\\\cacert.pem'"
      ]
     },
     "execution_count": 1,
     "metadata": {},
     "output_type": "execute_result"
    }
   ],
   "source": [
    "import certifi\n",
    "certifi.where()"
   ]
  },
  {
   "cell_type": "code",
   "execution_count": null,
   "id": "c8df338c",
   "metadata": {},
   "outputs": [],
   "source": []
  }
 ],
 "metadata": {
  "kernelspec": {
   "display_name": "Python 3",
   "language": "python",
   "name": "python3"
  },
  "language_info": {
   "codemirror_mode": {
    "name": "ipython",
    "version": 3
   },
   "file_extension": ".py",
   "mimetype": "text/x-python",
   "name": "python",
   "nbconvert_exporter": "python",
   "pygments_lexer": "ipython3",
   "version": "3.13.3"
  }
 },
 "nbformat": 4,
 "nbformat_minor": 5
}
